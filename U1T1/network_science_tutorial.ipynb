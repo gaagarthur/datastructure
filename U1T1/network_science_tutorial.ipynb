{
 "cells": [
  {
   "cell_type": "markdown",
   "id": "253325d0",
   "metadata": {},
   "source": [
    "\n",
    "# Network Science: A Hands-On Introduction\n",
    "### Learning Networks through Knowing, Discovering, Experiencing, and Sharing\n",
    "\n",
    "Welcome to this beginner-friendly introduction to Network Science! In this tutorial, you'll explore fundamental concepts \n",
    "using a hands-on approach. This tutorial follows a learning methodology that balances **knowing**, **discovering**, \n",
    "**experiencing**, and **sharing**, so expect to read, experiment, solve, and even teach!\n",
    "\n",
    "You'll be working with Python and **NetworkX**, a powerful library for network analysis.\n",
    "\n",
    "## Learning Objectives:\n",
    "- Understand what networks are and how they are represented.\n",
    "- Learn key network metrics and their importance.\n",
    "- Explore network structures and communities.\n",
    "- Gain experience through hands-on exercises.\n",
    "- Share insights by explaining concepts through code.\n",
    "\n",
    "---\n",
    "\n",
    "Let's get started! 🚀\n"
   ]
  },
  {
   "cell_type": "code",
   "execution_count": null,
   "id": "817b075f",
   "metadata": {},
   "outputs": [],
   "source": [
    "\n",
    "# Install NetworkX if not already installed (uncomment the line below if needed)\n",
    "# !pip install networkx matplotlib numpy\n",
    "import networkx as nx\n",
    "import matplotlib.pyplot as plt\n",
    "import numpy as np\n"
   ]
  },
  {
   "cell_type": "markdown",
   "id": "a66a6fd6",
   "metadata": {},
   "source": [
    "\n",
    "## 1. What is a Network? 🤔\n",
    "\n",
    "A **network** (or graph) consists of **nodes** (entities) and **edges** (connections between entities). \n",
    "Examples of real-world networks include:\n",
    "- Social networks (Facebook, Twitter connections)\n",
    "- Transportation networks (Airline routes, road maps)\n",
    "- Biological networks (Neural networks, protein interactions)\n",
    "\n",
    "Let's create a simple network! 👇\n"
   ]
  },
  {
   "cell_type": "code",
   "execution_count": null,
   "id": "b9c44e9c",
   "metadata": {},
   "outputs": [],
   "source": [
    "\n",
    "# Create a simple network\n",
    "G = nx.Graph()\n",
    "\n",
    "# Add nodes\n",
    "G.add_nodes_from([\"Alice\", \"Bob\", \"Charlie\", \"David\"])\n",
    "\n",
    "# Add edges (connections)\n",
    "G.add_edges_from([(\"Alice\", \"Bob\"), (\"Bob\", \"Charlie\"), (\"Charlie\", \"David\"), (\"Alice\", \"David\")])\n",
    "\n",
    "# Draw the network\n",
    "plt.figure(figsize=(5, 5))\n",
    "nx.draw(G, with_labels=True, node_color='lightblue', edge_color='gray', node_size=2000, font_size=10)\n",
    "plt.show()\n"
   ]
  },
  {
   "cell_type": "markdown",
   "id": "8e0599a1",
   "metadata": {},
   "source": [
    "\n",
    "### ✨ Exercise 1: Expand the Network\n",
    "Modify the network by adding a new person (node) and connecting them to an existing one. \n",
    "Try adding **Eve** and connect her to **Alice**. Run the modified code below. 👇\n"
   ]
  },
  {
   "cell_type": "code",
   "execution_count": null,
   "id": "afb860f1",
   "metadata": {},
   "outputs": [],
   "source": [
    "\n",
    "# Add a new node and connection\n",
    "G.add_node(\"Eve\")\n",
    "G.add_edge(\"Eve\", \"Alice\")\n",
    "\n",
    "# Draw the updated network\n",
    "plt.figure(figsize=(5, 5))\n",
    "nx.draw(G, with_labels=True, node_color='lightblue', edge_color='gray', node_size=2000, font_size=10)\n",
    "plt.show()\n"
   ]
  },
  {
   "cell_type": "markdown",
   "id": "0b898c67",
   "metadata": {},
   "source": [
    "\n",
    "## 2. Network Metrics 📊\n",
    "\n",
    "Networks have various properties that help us understand their structure. Some common metrics include:\n",
    "- **Degree**: Number of connections a node has.\n",
    "- **Clustering Coefficient**: Measures how connected a node’s neighbors are.\n",
    "- **Shortest Path**: Minimum number of steps between two nodes.\n",
    "\n",
    "Let's analyze our network!\n"
   ]
  },
  {
   "cell_type": "code",
   "execution_count": null,
   "id": "f2a7608b",
   "metadata": {},
   "outputs": [],
   "source": [
    "\n",
    "# Degree of each node\n",
    "degrees = dict(G.degree())\n",
    "print(\"Node Degrees:\", degrees)\n",
    "\n",
    "# Clustering Coefficient\n",
    "clustering = nx.clustering(G)\n",
    "print(\"Clustering Coefficients:\", clustering)\n",
    "\n",
    "# Shortest path between Alice and David\n",
    "shortest_path = nx.shortest_path(G, source=\"Alice\", target=\"David\")\n",
    "print(\"Shortest path from Alice to David:\", shortest_path)\n"
   ]
  },
  {
   "cell_type": "markdown",
   "id": "b3168b0b",
   "metadata": {},
   "source": [
    "\n",
    "### 🏆 Exercise 2: Shortest Path Challenge\n",
    "Try finding the shortest path between **Eve** and **Charlie**. Modify the code below to compute and print it.\n"
   ]
  },
  {
   "cell_type": "code",
   "execution_count": null,
   "id": "74e73905",
   "metadata": {},
   "outputs": [],
   "source": [
    "\n",
    "# Compute the shortest path between Eve and Charlie\n",
    "shortest_path_eve_charlie = nx.shortest_path(G, source=\"Eve\", target=\"Charlie\")\n",
    "print(\"Shortest path from Eve to Charlie:\", shortest_path_eve_charlie)\n"
   ]
  },
  {
   "cell_type": "markdown",
   "id": "f29fe6f4",
   "metadata": {},
   "source": [
    "\n",
    "## 3. Community Detection 🏘️\n",
    "\n",
    "In networks, groups of nodes that are more connected internally than externally form **communities**.\n",
    "One way to detect communities is using the **Greedy Modularity Optimization** algorithm.\n"
   ]
  },
  {
   "cell_type": "code",
   "execution_count": null,
   "id": "0aad2ebf",
   "metadata": {},
   "outputs": [],
   "source": [
    "\n",
    "from networkx.algorithms import community\n",
    "\n",
    "# Detect communities\n",
    "communities = list(community.greedy_modularity_communities(G))\n",
    "for i, comm in enumerate(communities):\n",
    "    print(f\"Community {i+1}: {list(comm)}\")\n"
   ]
  },
  {
   "cell_type": "markdown",
   "id": "5c0821d9",
   "metadata": {},
   "source": [
    "\n",
    "### 🔍 Exercise 3: Community Exploration\n",
    "Try adding new nodes and connections to see how communities change. Add nodes and edges, then rerun the community detection.\n"
   ]
  },
  {
   "cell_type": "markdown",
   "id": "7e9a46b0",
   "metadata": {},
   "source": [
    "\n",
    "## 🎉 Congratulations! You’ve learned:\n",
    "✅ What networks are and how to create them.  \n",
    "✅ How to compute basic network metrics.  \n",
    "✅ How to detect communities in a network.  \n",
    "\n",
    "Now, try explaining what you've learned to someone else—that's the **Sharing** phase of learning! 🚀  \n"
   ]
  }
 ],
 "metadata": {},
 "nbformat": 4,
 "nbformat_minor": 5
}
